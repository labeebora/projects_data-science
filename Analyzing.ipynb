{
 "cells": [
  {
   "cell_type": "code",
   "execution_count": 1,
   "id": "404f2f19-1a43-4fa2-9c7f-a82c3fdf37d8",
   "metadata": {},
   "outputs": [],
   "source": [
    "import pandas as pd    # استيراد مكتبة الباندا لمعالجة البيانات الجدولية (DataFrame)\n",
    "import numpy as np     # استيراد مكتبة النمباي للعمليات الرياضية والمصفوفات\n",
    "import time           # استيراد مكتبة الوقت لقياس الزمن أو الانتظار\n",
    "import sqlite3        # استيراد مكتبة sqlite3 للتعامل مع قواعد بيانات SQLite\n",
    "data_home='./'        # تحديد مجلد العمل الحالي كموقع افتراضي للبيانات"
   ]
  },
  {
   "cell_type": "code",
   "execution_count": 2,
   "id": "2c8b10fb-affa-43de-a5c9-13d3b75df46a",
   "metadata": {},
   "outputs": [],
   "source": [
    "dataset = pd.read_csv(\n",
    "    filepath_or_buffer='D:/CaseStudy/train_triplets.txt/train_triplets.txt', # تحديد مسار ملف البيانات\n",
    "    nrows=10000,             # قراءة أول 10000 صف فقط من الملف\n",
    "    sep='\\t',                # تحديد أن البيانات مفصولة بعلامة الجدولة (tab)\n",
    "    header=None,             # لا يوجد صف رأسي (header) في الملف\n",
    "    names=['user', 'song', 'play_count'] # تسمية الأعمدة الثلاثة: المستخدم، الأغنية، عدد مرات التشغيل\n",
    ")"
   ]
  },
  {
   "cell_type": "code",
   "execution_count": 3,
   "id": "030287dc-2776-4ce2-af2a-c3c29e1df877",
   "metadata": {},
   "outputs": [],
   "source": [
    "dataset.head(10) # عرض أول 10 صفوف من البيانات لمعاينتها"
   ]
  },
  {
   "cell_type": "code",
   "execution_count": 4,
   "id": "6c62601e-5f54-420f-9660-e209447c0cd6",
   "metadata": {},
   "outputs": [],
   "source": [
    "dataset.shape # إظهار شكل البيانات (عدد الصفوف والأعمدة في الجدول)"
   ]
  },
  {
   "cell_type": "code",
   "execution_count": 5,
   "id": "be97a987-2ffc-471f-b946-a33e54b3600f",
   "metadata": {},
   "outputs": [],
   "source": [
    "output_dict = {}  # إنشاء قاموس فارغ لتجميع عدد مرات التشغيل لكل مستخدم\n",
    "with open('D:/CaseStudy/train_triplets.txt/train_triplets.txt') as f:  # فتح ملف البيانات\n",
    "    for line_number, line in enumerate(f):  # تكرار على كل سطر في الملف مع رقم السطر\n",
    "        user = line.split('\\t')[0]         # أخذ معرف المستخدم من أول عنصر بعد التقسيم\n",
    "        play_count = int(line.split('\\t')[2]) # أخذ عدد مرات التشغيل وتحويله لعدد صحيح\n",
    "        if user in output_dict:               # إذا كان المستخدم موجود مسبقاً في القاموس\n",
    "            play_count += output_dict[user]   # أضف عدد التشغيل الجديد للقيمة القديمة\n",
    "            output_dict.update({user:play_count}) # حدث القيمة في القاموس\n",
    "        output_dict.update({user:play_count})     # إذا لم يكن موجود أضف للمرة الأولى\n",
    "output_dict = [{'user':k, 'play_count':v} for k,v in output_dict.items()] # تحويل القاموس لقائمة قواميس\n",
    "play_count_df = pd.DataFrame(output_dict)    # تحويل القائمة إلى DataFrame\n",
    "play_count_df = play_count_df.sort_values(by='play_count', ascending=False) # ترتيب البيانات تنازلياً حسب عدد مرات التشغيل"
   ]
  },
  {
   "cell_type": "code",
   "execution_count": 6,
   "id": "1b9af306-3db2-4173-8ab3-3885738e28c6",
   "metadata": {},
   "outputs": [],
   "source": [
    "play_count_df.to_csv(\n",
    "    path_or_buf='D:/CaseStudy/train_triplets.txt/user_playcount_df.csv',\n",
    "    index=False\n",
    ") # حفظ بيانات عدد مرات التشغيل لكل مستخدم في ملف CSV بدون الفهرس"
   ]
  },
  {
   "cell_type": "code",
   "execution_count": 7,
   "id": "e418ea3c-343f-444a-a989-01535874b37e",
   "metadata": {},
   "outputs": [],
   "source": [
    "play_count_df = pd.read_csv(\"D:/CaseStudy/train_triplets.txt/user_playcount_df.csv\")\n",
    "# قراءة بيانات المستخدم وعدد مرات التشغيل من ملف CSV"
   ]
  },
  {
   "cell_type": "code",
   "execution_count": 8,
   "id": "9d44d098-8b91-4fc0-8732-f85f4a6e03bb",
   "metadata": {},
   "outputs": [],
   "source": [
    "play_count_df.head(100) # عرض أول 100 مستخدم حسب عدد مرات التشغيل"
   ]
  },
  {
   "cell_type": "code",
   "execution_count": 9,
   "id": "3d0ec416-2a47-4cec-a8ee-d0d66dd7cd83",
   "metadata": {},
   "outputs": [],
   "source": [
    "output_dict = {}  # إنشاء قاموس فارغ لتجميع عدد مرات التشغيل لكل أغنية\n",
    "with open('D:/CaseStudy/train_triplets.txt/train_triplets.txt') as f:  # فتح ملف البيانات\n",
    "    for line_number, line in enumerate(f):  # التكرار على كل سطر مع رقم السطر\n",
    "        song = line.split('\\t')[1]         # أخذ معرف الأغنية من ثاني عنصر\n",
    "        play_count = int(line.split('\\t')[2]) # أخذ عدد مرات التشغيل وتحويله لعدد صحيح\n",
    "        if song in output_dict:               # إذا كانت الأغنية موجودة مسبقاً\n",
    "            play_count +=output_dict[song]    # أضف عدد التشغيل الجديد للقيمة القديمة\n",
    "            output_dict.update({song:play_count}) # تحديث القيمة في القاموس\n",
    "        output_dict.update({song:play_count})     # إضافة أو تحديث الأغنية\n",
    "output_list = [{'song':k,'play_count':v} for k,v in output_dict.items()] # تحويل القاموس لقائمة قواميس\n",
    "song_count_df = pd.DataFrame(output_list) # تحويل القائمة إلى DataFrame\n",
    "song_count_df = song_count_df.sort_values(by = 'play_count', ascending = False) # ترتيب الأغاني حسب عدد مرات التشغيل"
   ]
  },
  {
   "cell_type": "code",
   "execution_count": 10,
   "id": "195feae9-c194-4783-8883-67ea2fcc230b",
   "metadata": {},
   "outputs": [],
   "source": [
    "song_count_df.to_csv(path_or_buf='D:/CaseStudy/train_triplets.txt/song_playcount_df.csv', index = False) # حفظ نتائج الأغاني وعدد التشغيل في ملف CSV"
   ]
  },
  {
   "cell_type": "code",
   "execution_count": 11,
   "id": "1353bc34-3e40-4926-94b1-d15e30ece594",
   "metadata": {},
   "outputs": [],
   "source": [
    "song_count_df = pd.read_csv(\"D:/CaseStudy/train_triplets.txt/song_playcount_df.csv\") # قراءة بيانات الأغاني وعدد التشغيل من ملف CSV"
   ]
  },
  {
   "cell_type": "code",
   "execution_count": 12,
   "id": "f74e1a6d-fe4b-4e3a-a22e-e751c14d3009",
   "metadata": {},
   "outputs": [],
   "source": [
    "song_count_df.head() # عرض أول 5 أغاني حسب عدد مرات التشغيل"
   ]
  },
  {
   "cell_type": "code",
   "execution_count": 13,
   "id": "7891b1da-0b19-4e91-b865-9bbb8c8d32e3",
   "metadata": {},
   "outputs": [],
   "source": [
    "play_count_df.head(10) # عرض أول 10 مستخدمين حسب عدد مرات التشغيل"
   ]
  },
  {
   "cell_type": "code",
   "execution_count": 14,
   "id": "036c674c-7300-4a83-b92a-2b72dfb5f862",
   "metadata": {},
   "outputs": [],
   "source": [
    "song_count_df.head(10) # عرض أول 10 أغاني حسب عدد مرات التشغيل"
   ]
  },
  {
   "cell_type": "code",
   "execution_count": 15,
   "id": "993667af-512d-4471-9b0f-c0bd214c2b29",
   "metadata": {},
   "outputs": [],
   "source": [
    "total_play_count = sum(song_count_df.play_count)  # حساب مجموع جميع مرات التشغيل لكل الأغاني\n",
    "(float(play_count_df.head(n=100000).play_count.sum())/total_play_count)*100 # حساب نسبة أول 100,000 مستخدم من مجموع مرات التشغيل\n",
    "play_count_subset = play_count_df.head(n=100000) # أخذ أول 100,000 مستخدم في متغير جديد"
   ]
  },
  {
   "cell_type": "code",
   "execution_count": 16,
   "id": "c069dff2-9120-43e4-93c9-bfb77c1cfac6",
   "metadata": {},
   "outputs": [],
   "source": [
    "(float(song_count_df.head(30000).play_count.sum())/total_play_count)*100 # حساب نسبة أول 30,000 أغنية من مجموع مرات التشغيل\n",
    "song_count_subset = song_count_df.head(n=30000) # أخذ أول 30,000 أغنية في متغير جديد"
   ]
  },
  {
   "cell_type": "code",
   "execution_count": 17,
   "id": "ae5768fd-93ab-45ca-98fb-e64d7ebd3bf3",
   "metadata": {},
   "outputs": [],
   "source": [
    "user_subset = list(play_count_subset.user) # تحويل عمود المستخدمين إلى قائمة\n",
    "song_subset = list(song_count_subset.song) # تحويل عمود الأغاني إلى قائمة"
   ]
  },
  {
   "cell_type": "code",
   "execution_count": 18,
   "id": "ccbe147a-ce63-4266-af31-3420deea6ae6",
   "metadata": {},
   "outputs": [],
   "source": [
    "triplet_dataset = pd.read_csv('D:/CaseStudy/train_triplets.txt/train_triplets.txt', nrows=500000 ,sep='\\t', header=None, names=['user','song','play_count']) # قراءة أول 500,000 صف من ملف البيانات الأصلي\n",
    "triplet_dataset_sub = triplet_dataset[triplet_dataset.user.isin(user_subset)] # تصفية البيانات ليشمل فقط المستخدمين المحددين\n",
    "del(triplet_dataset) # حذف المتغير القديم لتوفير الذاكرة\n",
    "triplet_dataset_sub_song = triplet_dataset_sub[triplet_dataset_sub.song.isin(song_subset)] # تصفية البيانات ليشمل فقط الأغاني المحددة\n",
    "del(triplet_dataset_sub) # حذف المتغير القديم لتوفير الذاكرة"
   ]
  },
  {
   "cell_type": "code",
   "execution_count": 19,
   "id": "371b3adf-db5d-43aa-9ae4-fdfec834ed37",
   "metadata": {},
   "outputs": [],
   "source": [
    "triplet_dataset_sub_song.to_csv(path_or_buf='D:/CaseStudy/train_triplets.txt/triplet_dataset_sub_song.csv', index=False) # حفظ البيانات المصفاة في ملف CSV"
   ]
  },
  {
   "cell_type": "code",
   "execution_count": 20,
   "id": "de101352-e459-4d3f-b712-c82d715ce7f9",
   "metadata": {},
   "outputs": [],
   "source": [
    "triplet_dataset_sub_song.shape # عرض شكل بيانات العينة النهائية (عدد الصفوف والأعمدة)"
   ]
  },
  {
   "cell_type": "code",
   "execution_count": 21,
   "id": "10fd9130-9d99-44d5-891e-f1e72a8147b3",
   "metadata": {},
   "outputs": [],
   "source": [
    "triplet_dataset_sub_song.head(10) # عرض أول 10 صفوف من البيانات النهائية"
   ]
  },
  {
   "cell_type": "code",
   "execution_count": 22,
   "id": "f78cd02e-0aee-44cf-9b6a-ab6221de93d2",
   "metadata": {},
   "outputs": [],
   "source": [
    "conn = sqlite3.connect('D:/CaseStudy/train_triplets.txt/track_metadata.db') # فتح قاعدة بيانات SQLite\n",
    "cur = conn.cursor() # إنشاء مؤشر للتنقل في قاعدة البيانات\n",
    "cur.execute(\"SELECT name FROM sqlite_master WHERE type='table'\") # استعلام لجلب أسماء الجداول في قاعدة البيانات\n",
    "cur.fetchall() # إظهار نتيجة أسماء الجداول"
   ]
  },
  {
   "cell_type": "code",
   "execution_count": 23,
   "id": "19addd89-5423-405e-9096-83c51861d04f",
   "metadata": {},
   "outputs": [],
   "source": [
    "track_metadata_df = pd.read_sql(con=conn, sql='select * from songs') # قراءة جدول الأغاني بالكامل في DataFrame\n",
    "track_metadata_df_sub = track_metadata_df[track_metadata_df.song_id.isin(song_subset)] # تصفية جدول الأغاني ليشمل فقط الأغاني المحددة"
   ]
  },
  {
   "cell_type": "code",
   "execution_count": 24,
   "id": "9c252b1a-a154-4760-a413-6242a8fdaac6",
   "metadata": {},
   "outputs": [],
   "source": [
    "track_metadata_df_sub.head() # عرض أول 5 صفوف من بيانات وصف الأغاني المصفاة"
   ]
  }
 ],
 "metadata": {
  "kernelspec": {
   "display_name": "Python 3",
   "language": "python",
   "name": "python3"
  },
  "language_info": {
   "name": "python",
   "version": ""
  }
 },
 "nbformat": 4,
 "nbformat_minor": 5
}